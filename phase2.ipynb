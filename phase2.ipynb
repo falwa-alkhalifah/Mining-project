{
  "cells": [
    {
      "cell_type": "markdown",
      "metadata": {
        "id": "view-in-github",
        "colab_type": "text"
      },
      "source": [
        "<a href=\"https://colab.research.google.com/github/falwa-alkhalifah/Mining-project/blob/main/phase2.ipynb\" target=\"_parent\"><img src=\"https://colab.research.google.com/assets/colab-badge.svg\" alt=\"Open In Colab\"/></a>"
      ]
    },
    {
      "cell_type": "code",
      "execution_count": null,
      "metadata": {
        "id": "WnXUWDXL7rOm"
      },
      "outputs": [],
      "source": [
        "import pandas as pd\n",
        "\n",
        "url = 'https://raw.githubusercontent.com/falwa-alkhalifah/Mining-project/refs/heads/main/Dataset/Dataset%20of%20Diabetes%20.csv'\n",
        "\n",
        "df  = pd.read_csv(url)"
      ]
    },
    {
      "cell_type": "markdown",
      "metadata": {
        "id": "QI_WJuq9urDc"
      },
      "source": [
        "Summmry of dataset and statical summaries:"
      ]
    },
    {
      "cell_type": "markdown",
      "metadata": {
        "id": "B0X9NthiurDe"
      },
      "source": [
        "Graphs:"
      ]
    },
    {
      "cell_type": "markdown",
      "metadata": {
        "id": "uQ_-33akurDf"
      },
      "source": [
        "Correlation Analysis:"
      ]
    },
    {
      "cell_type": "markdown",
      "metadata": {
        "id": "nz_lOfjhurDf"
      },
      "source": [
        "Data Cleaning:"
      ]
    },
    {
      "cell_type": "markdown",
      "metadata": {
        "id": "Q7NPUzAourDg"
      },
      "source": [
        "Data Transformation:"
      ]
    },
    {
      "cell_type": "markdown",
      "metadata": {
        "id": "Cv-fWj-jurDg"
      },
      "source": [
        "Features Selection:"
      ]
    },
    {
      "cell_type": "code",
      "source": [
        "from sklearn.feature_selection import SelectKBest, f_classif\n",
        "from sklearn.preprocessing import LabelEncoder\n",
        "\n",
        "\n",
        "df['Gender'] = LabelEncoder().fit_transform(df['Gender'])\n",
        "df['CLASS'] = LabelEncoder().fit_transform(df['CLASS'])\n",
        "\n",
        "X = df.drop(columns=[\"CLASS\"])\n",
        "y = df[\"CLASS\"]\n",
        "selector = SelectKBest(score_func=f_classif, k=5)\n",
        "X_new = selector.fit_transform(X, y)\n",
        "\n",
        "selected_features = X.columns[selector.get_support()]\n",
        "print(\"Selected Features:\", selected_features.tolist())"
      ],
      "metadata": {
        "colab": {
          "base_uri": "https://localhost:8080/"
        },
        "id": "iBRDYyS-usce",
        "outputId": "47eafd85-75b0-4eb6-b5b5-fd66cb3c887b"
      },
      "execution_count": null,
      "outputs": [
        {
          "output_type": "stream",
          "name": "stdout",
          "text": [
            "Selected Features: ['AGE', 'HbA1c', 'Chol', 'TG', 'BMI']\n"
          ]
        }
      ]
    },
    {
      "cell_type": "code",
      "source": [
        "from sklearn.feature_selection import VarianceThreshold\n",
        "\n",
        "selector = VarianceThreshold(threshold=0.1)\n",
        "X_new = selector.fit_transform(X)\n",
        "\n",
        "selected_features = X.columns[selector.get_support()]\n",
        "print(\"Selected Features after Variance Threshold:\", selected_features.tolist())\n"
      ],
      "metadata": {
        "colab": {
          "base_uri": "https://localhost:8080/"
        },
        "id": "5XAamyNWu2nZ",
        "outputId": "38466cae-18ee-4df1-a358-513d96311a91"
      },
      "execution_count": null,
      "outputs": [
        {
          "output_type": "stream",
          "name": "stdout",
          "text": [
            "Selected Features after Variance Threshold: ['ID', 'No_Pation', 'Gender', 'AGE', 'Urea', 'Cr', 'HbA1c', 'Chol', 'TG', 'HDL', 'LDL', 'VLDL', 'BMI']\n"
          ]
        }
      ]
    }
  ],
  "metadata": {
    "colab": {
      "provenance": [],
      "include_colab_link": true
    },
    "kernelspec": {
      "display_name": "Python 3",
      "name": "python3"
    },
    "language_info": {
      "codemirror_mode": {
        "name": "ipython",
        "version": 3
      },
      "file_extension": ".py",
      "mimetype": "text/x-python",
      "name": "python",
      "nbconvert_exporter": "python",
      "pygments_lexer": "ipython3",
      "version": "3.12.1"
    }
  },
  "nbformat": 4,
  "nbformat_minor": 0
}