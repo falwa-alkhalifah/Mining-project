{
  "cells": [
    {
      "cell_type": "markdown",
      "metadata": {
        "colab_type": "text",
        "id": "view-in-github"
      },
      "source": [
        "<a href=\"https://colab.research.google.com/github/falwa-alkhalifah/Mining-project/blob/main/phase2.ipynb\" target=\"_parent\"><img src=\"https://colab.research.google.com/assets/colab-badge.svg\" alt=\"Open In Colab\"/></a>"
      ]
    },
    {
      "cell_type": "code",
      "execution_count": 1,
      "metadata": {
        "id": "WnXUWDXL7rOm"
      },
      "outputs": [],
      "source": [
        "from sklearn.preprocessing import LabelEncoder\n",
        "from sklearn.preprocessing import MinMaxScaler\n",
        "import pandas as pd\n",
        "from scipy import stats\n",
        "import numpy as np\n",
        "\n",
        "url = 'https://raw.githubusercontent.com/falwa-alkhalifah/Mining-project/refs/heads/main/Dataset/Dataset%20of%20Diabetes%20.csv'\n",
        "\n",
        "df  = pd.read_csv(url)"
      ]
    },
    {
      "cell_type": "markdown",
      "metadata": {
        "id": "QI_WJuq9urDc"
      },
      "source": [
        "**Summmry of dataset and statical summaries**:"
      ]
    },
    {
      "cell_type": "markdown",
      "metadata": {},
      "source": [
        "**missing values**:"
      ]
    },
    {
      "cell_type": "markdown",
      "metadata": {
        "id": "B0X9NthiurDe"
      },
      "source": [
        "**Graphs**:"
      ]
    },
    {
      "cell_type": "markdown",
      "metadata": {
        "id": "uQ_-33akurDf"
      },
      "source": [
        "**Correlation Analysis**:"
      ]
    },
    {
      "cell_type": "markdown",
      "metadata": {},
      "source": [
        "**----------------------------------------------**"
      ]
    },
    {
      "cell_type": "markdown",
      "metadata": {
        "id": "nz_lOfjhurDf"
      },
      "source": [
        "**Data Cleaning**:"
      ]
    },
    {
      "cell_type": "markdown",
      "metadata": {},
      "source": [
        "**Dublicate Data**:\n",
        "First, eliminating any duplicate rows, if any: As shown below we didn't find any duplicated rows."
      ]
    },
    {
      "cell_type": "code",
      "execution_count": 2,
      "metadata": {},
      "outputs": [
        {
          "name": "stdout",
          "output_type": "stream",
          "text": [
            "Number of duplicate rows: 0\n"
          ]
        }
      ],
      "source": [
        "# Check for duplicates\n",
        "duplicates = df.duplicated()\n",
        "# Print the number of duplicate rows\n",
        "print(\"Number of duplicate rows:\", duplicates.sum())"
      ]
    },
    {
      "cell_type": "markdown",
      "metadata": {},
      "source": [
        "**filling missing values**:"
      ]
    },
    {
      "cell_type": "markdown",
      "metadata": {},
      "source": [
        "**detect and remove outliers**:\n",
        " identify outliers by using IQR method, calculating the range between the first quartile (Q1) and the third quartile (Q3), then we removed detected outliers."
      ]
    },
    {
      "cell_type": "code",
      "execution_count": 4,
      "metadata": {},
      "outputs": [
        {
          "name": "stdout",
          "output_type": "stream",
          "text": [
            "number of outliers 371\n",
            "data after cleaning:\n",
            "      ID  No_Pation Gender  AGE  Urea  Cr  HbA1c  Chol   TG  HDL  LDL  VLDL  \\\n",
            "5    634      34224      F   45   2.3  24    4.0   2.9  1.0  1.0  1.5   0.4   \n",
            "6    721      34225      F   50   2.0  50    4.0   3.6  1.3  0.9  2.1   0.6   \n",
            "7    421      34227      M   48   4.7  47    4.0   2.9  0.8  0.9  1.6   0.4   \n",
            "13   132      34234      F   45   4.6  54    5.1   4.2  1.7  1.2  2.2   0.8   \n",
            "14   402      34235      F   50   3.5  39    4.0   4.0  1.5  1.2  2.2   0.7   \n",
            "..   ...        ...    ...  ...   ...  ..    ...   ...  ...  ...  ...   ...   \n",
            "965  159      45446      M   54   5.0  88    6.8   6.7  3.7  0.9  2.9   1.7   \n",
            "973  170      45395      M   50   4.8  70    8.0   5.2  2.7  1.4  2.7   1.2   \n",
            "978  176      45445      M   52   5.1  70    7.0   7.5  1.7  1.2  1.8   0.6   \n",
            "991  195       4543      f   55   4.1  34   13.9   5.4  1.6  1.6  3.1   0.7   \n",
            "999  248      24054      M   54   5.0  67    6.9   3.8  1.7  1.1  3.0   0.7   \n",
            "\n",
            "      BMI CLASS  \n",
            "5    21.0     N  \n",
            "6    24.0     N  \n",
            "7    24.0     N  \n",
            "13   23.0     N  \n",
            "14   24.0     N  \n",
            "..    ...   ...  \n",
            "965  32.0     Y  \n",
            "973  20.0     Y  \n",
            "978  30.0     Y  \n",
            "991  33.0     Y  \n",
            "999  33.0    Y   \n",
            "\n",
            "[629 rows x 14 columns]\n"
          ]
        }
      ],
      "source": [
        "df_numeric = df.select_dtypes(include=['number'])\n",
        "\n",
        "# Calculate IQR\n",
        "Q1 = df_numeric.quantile(0.25)\n",
        "Q3 = df_numeric.quantile(0.75)\n",
        "IQR = Q3 - Q1\n",
        "\n",
        "# Detect Outliers\n",
        "outliers = ((df_numeric < (Q1 - 1.5 * IQR)) | (df_numeric > (Q3 + 1.5 * IQR))).any(axis=1)\n",
        "\n",
        "# Remove Outliers\n",
        "df_cleaned = df[~outliers]\n",
        "\n",
        "\n",
        "print(\"number of outliers\", outliers.sum())\n",
        "print(\"data after cleaning:\")\n",
        "print(df_cleaned)"
      ]
    },
    {
      "cell_type": "markdown",
      "metadata": {},
      "source": [
        "**----------------------------------------------**"
      ]
    },
    {
      "cell_type": "markdown",
      "metadata": {
        "id": "Q7NPUzAourDg"
      },
      "source": [
        "**Data Transformation**:"
      ]
    },
    {
      "cell_type": "markdown",
      "metadata": {},
      "source": [
        "**Normlization**:\n",
        "Normalization was performed to ensure consistent data scale. The normalization technique applied is max-min normalization. This technique scales specific attribute values ​​to a specified range from 0 to 1. The following attributes were selected for normalization: ['BMI', 'Urea', 'Cr','Chol', 'TG', 'HDL', 'LDL', 'VLDL','HbA1c']"
      ]
    },
    {
      "cell_type": "code",
      "execution_count": 5,
      "metadata": {},
      "outputs": [
        {
          "name": "stdout",
          "output_type": "stream",
          "text": [
            "min-max scaled data:\n",
            "      ID  No_Pation Gender  AGE      Urea        Cr     HbA1c      Chol  \\\n",
            "0    502      17975      F   50  0.109375  0.050378  0.264901  0.407767   \n",
            "1    735      34221      M   26  0.104167  0.070529  0.264901  0.359223   \n",
            "2    420      47975      F   50  0.109375  0.050378  0.264901  0.407767   \n",
            "3    680      87656      F   50  0.109375  0.050378  0.264901  0.407767   \n",
            "4    504      34223      M   33  0.171875  0.050378  0.264901  0.475728   \n",
            "..   ...        ...    ...  ...       ...       ...       ...       ...   \n",
            "995  200     454317      M   71  0.273438  0.114610  0.403974  0.728155   \n",
            "996  671     876534      M   31  0.065104  0.068010  0.754967  0.398058   \n",
            "997  669      87654      M   30  0.171875  0.094458  0.384106  0.398058   \n",
            "998   99      24004      M   38  0.138021  0.066751  0.384106  0.514563   \n",
            "999  248      24054      M   54  0.117188  0.076826  0.397351  0.368932   \n",
            "\n",
            "           TG       HDL       LDL      VLDL       BMI CLASS  \n",
            "0    0.044444  0.226804  0.114583  0.011461  0.173913     N  \n",
            "1    0.081481  0.092784  0.187500  0.014327  0.139130     N  \n",
            "2    0.044444  0.226804  0.114583  0.011461  0.173913     N  \n",
            "3    0.044444  0.226804  0.114583  0.011461  0.173913     N  \n",
            "4    0.051852  0.061856  0.177083  0.008596  0.069565     N  \n",
            "..        ...       ...       ...       ...       ...   ...  \n",
            "995  0.103704  0.103093  0.156250  0.014327  0.382609     Y  \n",
            "996  0.140741  0.051546  0.218750  0.438395  0.633043    Y   \n",
            "997  0.059259  0.103093  0.218750  0.229226  0.292174    Y   \n",
            "998  0.125926  0.144330  0.270833  0.398281  0.747826    Y   \n",
            "999  0.103704  0.092784  0.281250  0.017192  0.486957    Y   \n",
            "\n",
            "[1000 rows x 14 columns]\n"
          ]
        }
      ],
      "source": [
        "#Extract Columns to normlize\n",
        "columns_to_normalize = ['BMI', 'Urea', 'Cr','Chol', 'TG', 'HDL', 'LDL', 'VLDL','HbA1c']\n",
        "data_to_normlize = df[columns_to_normalize]\n",
        "#Min-Max scaling for selected columns\n",
        "minmax_scaler = MinMaxScaler()\n",
        "normlized_data_minmax = minmax_scaler.fit_transform(data_to_normlize)\n",
        "\n",
        "#Replace the normlized values in the original DataFrame\n",
        "df[columns_to_normalize] = normlized_data_minmax\n",
        "\n",
        "print(\"min-max scaled data:\")\n",
        "\n",
        "print(df)"
      ]
    },
    {
      "cell_type": "markdown",
      "metadata": {},
      "source": [
        "\n",
        "**discretization**: we applied discretization to the \"Age\" column to simplify the continuous age data by grouping it into meaningful age ranges, the ranges are [0-30 , 31-50 , 51-100] This helps reduce noise, improve interpretability, and may enhance model performance by capturing patterns more effectively in categories rather than treating age as a continuous variable."
      ]
    },
    {
      "cell_type": "code",
      "execution_count": 6,
      "metadata": {},
      "outputs": [
        {
          "name": "stdout",
          "output_type": "stream",
          "text": [
            "original DataFrame:\n",
            "     AGE AgeGroup\n",
            "0     50    31-50\n",
            "1     26     0-30\n",
            "2     50    31-50\n",
            "3     50    31-50\n",
            "4     33    31-50\n",
            "..   ...      ...\n",
            "995   71   51-100\n",
            "996   31    31-50\n",
            "997   30     0-30\n",
            "998   38    31-50\n",
            "999   54   51-100\n",
            "\n",
            "[1000 rows x 2 columns]\n"
          ]
        }
      ],
      "source": [
        "#Discretization for column (Age)\n",
        "columns_to_Discretize = 'AGE'\n",
        "\n",
        "#The boundaries of the bins\n",
        "bns = [0, 30 , 50 , 100]\n",
        "\n",
        "#Labels for the age groups\n",
        "labls = ['0-30' , '31-50' , '51-100']\n",
        "\n",
        "#Perform discretization using cut function\n",
        "df['AgeGroup'] = pd.cut(df[columns_to_Discretize] , bins=bns , labels= labls )\n",
        "\n",
        "#Display the Discretizied columns\n",
        "print(\"original DataFrame:\")\n",
        "print(df[['AGE' ,'AgeGroup']])"
      ]
    },
    {
      "cell_type": "markdown",
      "metadata": {},
      "source": [
        "**Encoding**: /n Encoding the class And Gender columns, by converting categorical values into numerical format, making it suitable for machine learning models."
      ]
    },
    {
      "cell_type": "code",
      "execution_count": null,
      "metadata": {},
      "outputs": [],
      "source": [
        "le = LabelEncoder()\n",
        "df['Gender'] = le.fit_transform(df['Gender'])\n",
        "df['CLASS'] = le.fit_transform(df['CLASS'])\n",
        "print(df)"
      ]
    },
    {
      "cell_type": "markdown",
      "metadata": {},
      "source": [
        "**----------------------------------------------**"
      ]
    },
    {
      "cell_type": "markdown",
      "metadata": {
        "id": "Cv-fWj-jurDg"
      },
      "source": [
        "**Features Selection**:"
      ]
    },
    {
      "cell_type": "code",
      "execution_count": null,
      "metadata": {
        "colab": {
          "base_uri": "https://localhost:8080/"
        },
        "id": "iBRDYyS-usce",
        "outputId": "47eafd85-75b0-4eb6-b5b5-fd66cb3c887b"
      },
      "outputs": [
        {
          "name": "stdout",
          "output_type": "stream",
          "text": [
            "Selected Features: ['AGE', 'HbA1c', 'Chol', 'TG', 'BMI']\n"
          ]
        }
      ],
      "source": [
        "from sklearn.feature_selection import SelectKBest, f_classif\n",
        "from sklearn.preprocessing import LabelEncoder\n",
        "\n",
        "\n",
        "df['Gender'] = LabelEncoder().fit_transform(df['Gender'])\n",
        "df['CLASS'] = LabelEncoder().fit_transform(df['CLASS'])\n",
        "\n",
        "X = df.drop(columns=[\"CLASS\"])\n",
        "y = df[\"CLASS\"]\n",
        "selector = SelectKBest(score_func=f_classif, k=5)\n",
        "X_new = selector.fit_transform(X, y)\n",
        "\n",
        "selected_features = X.columns[selector.get_support()]\n",
        "print(\"Selected Features:\", selected_features.tolist())"
      ]
    },
    {
      "cell_type": "code",
      "execution_count": null,
      "metadata": {
        "colab": {
          "base_uri": "https://localhost:8080/"
        },
        "id": "5XAamyNWu2nZ",
        "outputId": "38466cae-18ee-4df1-a358-513d96311a91"
      },
      "outputs": [
        {
          "name": "stdout",
          "output_type": "stream",
          "text": [
            "Selected Features after Variance Threshold: ['ID', 'No_Pation', 'Gender', 'AGE', 'Urea', 'Cr', 'HbA1c', 'Chol', 'TG', 'HDL', 'LDL', 'VLDL', 'BMI']\n"
          ]
        }
      ],
      "source": [
        "from sklearn.feature_selection import VarianceThreshold\n",
        "\n",
        "selector = VarianceThreshold(threshold=0.1)\n",
        "X_new = selector.fit_transform(X)\n",
        "\n",
        "selected_features = X.columns[selector.get_support()]\n",
        "print(\"Selected Features after Variance Threshold:\", selected_features.tolist())\n"
      ]
    }
  ],
  "metadata": {
    "colab": {
      "include_colab_link": true,
      "provenance": []
    },
    "kernelspec": {
      "display_name": "Python 3",
      "name": "python3"
    },
    "language_info": {
      "codemirror_mode": {
        "name": "ipython",
        "version": 3
      },
      "file_extension": ".py",
      "mimetype": "text/x-python",
      "name": "python",
      "nbconvert_exporter": "python",
      "pygments_lexer": "ipython3",
      "version": "3.12.1"
    }
  },
  "nbformat": 4,
  "nbformat_minor": 0
}
