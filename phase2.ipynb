{
  "cells": [
    {
      "cell_type": "markdown",
      "metadata": {
        "id": "view-in-github",
        "colab_type": "text"
      },
      "source": [
        "<a href=\"https://colab.research.google.com/github/falwa-alkhalifah/Mining-project/blob/main/phase2.ipynb\" target=\"_parent\"><img src=\"https://colab.research.google.com/assets/colab-badge.svg\" alt=\"Open In Colab\"/></a>"
      ]
    },
    {
      "cell_type": "code",
      "execution_count": 2,
      "metadata": {
        "id": "WnXUWDXL7rOm"
      },
      "outputs": [],
      "source": [
        "from sklearn.preprocessing import LabelEncoder\n",
        "from sklearn.preprocessing import MinMaxScaler\n",
        "import pandas as pd\n",
        "from scipy import stats\n",
        "import numpy as np\n",
        "\n",
        "url = 'https://raw.githubusercontent.com/falwa-alkhalifah/Mining-project/refs/heads/main/Dataset/Dataset%20of%20Diabetes%20.csv'\n",
        "\n",
        "df  = pd.read_csv(url)"
      ]
    },
    {
      "cell_type": "markdown",
      "metadata": {
        "id": "QI_WJuq9urDc"
      },
      "source": [
        "**Summmry of dataset and statical summaries**:"
      ]
    },
    {
      "cell_type": "code",
      "source": [
        "#samples of dataset:\n",
        "print(df.head())"
      ],
      "metadata": {
        "id": "uICJEh5QP89L",
        "outputId": "1fea2b60-ead1-4d23-bb25-54f78e94ee35",
        "colab": {
          "base_uri": "https://localhost:8080/"
        }
      },
      "execution_count": 4,
      "outputs": [
        {
          "output_type": "stream",
          "name": "stdout",
          "text": [
            "    ID  No_Pation Gender  AGE  Urea  Cr  HbA1c  Chol   TG  HDL  LDL  VLDL  \\\n",
            "0  502      17975      F   50   4.7  46    4.9   4.2  0.9  2.4  1.4   0.5   \n",
            "1  735      34221      M   26   4.5  62    4.9   3.7  1.4  1.1  2.1   0.6   \n",
            "2  420      47975      F   50   4.7  46    4.9   4.2  0.9  2.4  1.4   0.5   \n",
            "3  680      87656      F   50   4.7  46    4.9   4.2  0.9  2.4  1.4   0.5   \n",
            "4  504      34223      M   33   7.1  46    4.9   4.9  1.0  0.8  2.0   0.4   \n",
            "\n",
            "    BMI CLASS  \n",
            "0  24.0     N  \n",
            "1  23.0     N  \n",
            "2  24.0     N  \n",
            "3  24.0     N  \n",
            "4  21.0     N  \n"
          ]
        }
      ]
    },
    {
      "cell_type": "code",
      "source": [
        "df.info()"
      ],
      "metadata": {
        "id": "5LAY6YhbSoEH",
        "outputId": "4813f330-c645-4fea-92b4-02c14bb2e1f3",
        "colab": {
          "base_uri": "https://localhost:8080/"
        }
      },
      "execution_count": 5,
      "outputs": [
        {
          "output_type": "stream",
          "name": "stdout",
          "text": [
            "<class 'pandas.core.frame.DataFrame'>\n",
            "RangeIndex: 1000 entries, 0 to 999\n",
            "Data columns (total 14 columns):\n",
            " #   Column     Non-Null Count  Dtype  \n",
            "---  ------     --------------  -----  \n",
            " 0   ID         1000 non-null   int64  \n",
            " 1   No_Pation  1000 non-null   int64  \n",
            " 2   Gender     1000 non-null   object \n",
            " 3   AGE        1000 non-null   int64  \n",
            " 4   Urea       1000 non-null   float64\n",
            " 5   Cr         1000 non-null   int64  \n",
            " 6   HbA1c      1000 non-null   float64\n",
            " 7   Chol       1000 non-null   float64\n",
            " 8   TG         1000 non-null   float64\n",
            " 9   HDL        1000 non-null   float64\n",
            " 10  LDL        1000 non-null   float64\n",
            " 11  VLDL       1000 non-null   float64\n",
            " 12  BMI        1000 non-null   float64\n",
            " 13  CLASS      1000 non-null   object \n",
            "dtypes: float64(8), int64(4), object(2)\n",
            "memory usage: 109.5+ KB\n"
          ]
        }
      ]
    },
    {
      "cell_type": "code",
      "source": [
        "df.describe()\n"
      ],
      "metadata": {
        "id": "Ky5k0VwFSy2L",
        "outputId": "6b762751-1307-4cd0-bb72-325a1940f044",
        "colab": {
          "base_uri": "https://localhost:8080/",
          "height": 300
        }
      },
      "execution_count": 6,
      "outputs": [
        {
          "output_type": "execute_result",
          "data": {
            "text/plain": [
              "                ID     No_Pation          AGE         Urea           Cr  \\\n",
              "count  1000.000000  1.000000e+03  1000.000000  1000.000000  1000.000000   \n",
              "mean    340.500000  2.705514e+05    53.528000     5.124743    68.943000   \n",
              "std     240.397673  3.380758e+06     8.799241     2.935165    59.984747   \n",
              "min       1.000000  1.230000e+02    20.000000     0.500000     6.000000   \n",
              "25%     125.750000  2.406375e+04    51.000000     3.700000    48.000000   \n",
              "50%     300.500000  3.439550e+04    55.000000     4.600000    60.000000   \n",
              "75%     550.250000  4.538425e+04    59.000000     5.700000    73.000000   \n",
              "max     800.000000  7.543566e+07    79.000000    38.900000   800.000000   \n",
              "\n",
              "             HbA1c         Chol           TG          HDL          LDL  \\\n",
              "count  1000.000000  1000.000000  1000.000000  1000.000000  1000.000000   \n",
              "mean      8.281160     4.862820     2.349610     1.204750     2.609790   \n",
              "std       2.534003     1.301738     1.401176     0.660414     1.115102   \n",
              "min       0.900000     0.000000     0.300000     0.200000     0.300000   \n",
              "25%       6.500000     4.000000     1.500000     0.900000     1.800000   \n",
              "50%       8.000000     4.800000     2.000000     1.100000     2.500000   \n",
              "75%      10.200000     5.600000     2.900000     1.300000     3.300000   \n",
              "max      16.000000    10.300000    13.800000     9.900000     9.900000   \n",
              "\n",
              "              VLDL          BMI  \n",
              "count  1000.000000  1000.000000  \n",
              "mean      1.854700    29.578020  \n",
              "std       3.663599     4.962388  \n",
              "min       0.100000    19.000000  \n",
              "25%       0.700000    26.000000  \n",
              "50%       0.900000    30.000000  \n",
              "75%       1.500000    33.000000  \n",
              "max      35.000000    47.750000  "
            ],
            "text/html": [
              "\n",
              "  <div id=\"df-ff094d55-e68c-4bf2-8c6b-fee6ddf42f24\" class=\"colab-df-container\">\n",
              "    <div>\n",
              "<style scoped>\n",
              "    .dataframe tbody tr th:only-of-type {\n",
              "        vertical-align: middle;\n",
              "    }\n",
              "\n",
              "    .dataframe tbody tr th {\n",
              "        vertical-align: top;\n",
              "    }\n",
              "\n",
              "    .dataframe thead th {\n",
              "        text-align: right;\n",
              "    }\n",
              "</style>\n",
              "<table border=\"1\" class=\"dataframe\">\n",
              "  <thead>\n",
              "    <tr style=\"text-align: right;\">\n",
              "      <th></th>\n",
              "      <th>ID</th>\n",
              "      <th>No_Pation</th>\n",
              "      <th>AGE</th>\n",
              "      <th>Urea</th>\n",
              "      <th>Cr</th>\n",
              "      <th>HbA1c</th>\n",
              "      <th>Chol</th>\n",
              "      <th>TG</th>\n",
              "      <th>HDL</th>\n",
              "      <th>LDL</th>\n",
              "      <th>VLDL</th>\n",
              "      <th>BMI</th>\n",
              "    </tr>\n",
              "  </thead>\n",
              "  <tbody>\n",
              "    <tr>\n",
              "      <th>count</th>\n",
              "      <td>1000.000000</td>\n",
              "      <td>1.000000e+03</td>\n",
              "      <td>1000.000000</td>\n",
              "      <td>1000.000000</td>\n",
              "      <td>1000.000000</td>\n",
              "      <td>1000.000000</td>\n",
              "      <td>1000.000000</td>\n",
              "      <td>1000.000000</td>\n",
              "      <td>1000.000000</td>\n",
              "      <td>1000.000000</td>\n",
              "      <td>1000.000000</td>\n",
              "      <td>1000.000000</td>\n",
              "    </tr>\n",
              "    <tr>\n",
              "      <th>mean</th>\n",
              "      <td>340.500000</td>\n",
              "      <td>2.705514e+05</td>\n",
              "      <td>53.528000</td>\n",
              "      <td>5.124743</td>\n",
              "      <td>68.943000</td>\n",
              "      <td>8.281160</td>\n",
              "      <td>4.862820</td>\n",
              "      <td>2.349610</td>\n",
              "      <td>1.204750</td>\n",
              "      <td>2.609790</td>\n",
              "      <td>1.854700</td>\n",
              "      <td>29.578020</td>\n",
              "    </tr>\n",
              "    <tr>\n",
              "      <th>std</th>\n",
              "      <td>240.397673</td>\n",
              "      <td>3.380758e+06</td>\n",
              "      <td>8.799241</td>\n",
              "      <td>2.935165</td>\n",
              "      <td>59.984747</td>\n",
              "      <td>2.534003</td>\n",
              "      <td>1.301738</td>\n",
              "      <td>1.401176</td>\n",
              "      <td>0.660414</td>\n",
              "      <td>1.115102</td>\n",
              "      <td>3.663599</td>\n",
              "      <td>4.962388</td>\n",
              "    </tr>\n",
              "    <tr>\n",
              "      <th>min</th>\n",
              "      <td>1.000000</td>\n",
              "      <td>1.230000e+02</td>\n",
              "      <td>20.000000</td>\n",
              "      <td>0.500000</td>\n",
              "      <td>6.000000</td>\n",
              "      <td>0.900000</td>\n",
              "      <td>0.000000</td>\n",
              "      <td>0.300000</td>\n",
              "      <td>0.200000</td>\n",
              "      <td>0.300000</td>\n",
              "      <td>0.100000</td>\n",
              "      <td>19.000000</td>\n",
              "    </tr>\n",
              "    <tr>\n",
              "      <th>25%</th>\n",
              "      <td>125.750000</td>\n",
              "      <td>2.406375e+04</td>\n",
              "      <td>51.000000</td>\n",
              "      <td>3.700000</td>\n",
              "      <td>48.000000</td>\n",
              "      <td>6.500000</td>\n",
              "      <td>4.000000</td>\n",
              "      <td>1.500000</td>\n",
              "      <td>0.900000</td>\n",
              "      <td>1.800000</td>\n",
              "      <td>0.700000</td>\n",
              "      <td>26.000000</td>\n",
              "    </tr>\n",
              "    <tr>\n",
              "      <th>50%</th>\n",
              "      <td>300.500000</td>\n",
              "      <td>3.439550e+04</td>\n",
              "      <td>55.000000</td>\n",
              "      <td>4.600000</td>\n",
              "      <td>60.000000</td>\n",
              "      <td>8.000000</td>\n",
              "      <td>4.800000</td>\n",
              "      <td>2.000000</td>\n",
              "      <td>1.100000</td>\n",
              "      <td>2.500000</td>\n",
              "      <td>0.900000</td>\n",
              "      <td>30.000000</td>\n",
              "    </tr>\n",
              "    <tr>\n",
              "      <th>75%</th>\n",
              "      <td>550.250000</td>\n",
              "      <td>4.538425e+04</td>\n",
              "      <td>59.000000</td>\n",
              "      <td>5.700000</td>\n",
              "      <td>73.000000</td>\n",
              "      <td>10.200000</td>\n",
              "      <td>5.600000</td>\n",
              "      <td>2.900000</td>\n",
              "      <td>1.300000</td>\n",
              "      <td>3.300000</td>\n",
              "      <td>1.500000</td>\n",
              "      <td>33.000000</td>\n",
              "    </tr>\n",
              "    <tr>\n",
              "      <th>max</th>\n",
              "      <td>800.000000</td>\n",
              "      <td>7.543566e+07</td>\n",
              "      <td>79.000000</td>\n",
              "      <td>38.900000</td>\n",
              "      <td>800.000000</td>\n",
              "      <td>16.000000</td>\n",
              "      <td>10.300000</td>\n",
              "      <td>13.800000</td>\n",
              "      <td>9.900000</td>\n",
              "      <td>9.900000</td>\n",
              "      <td>35.000000</td>\n",
              "      <td>47.750000</td>\n",
              "    </tr>\n",
              "  </tbody>\n",
              "</table>\n",
              "</div>\n",
              "    <div class=\"colab-df-buttons\">\n",
              "\n",
              "  <div class=\"colab-df-container\">\n",
              "    <button class=\"colab-df-convert\" onclick=\"convertToInteractive('df-ff094d55-e68c-4bf2-8c6b-fee6ddf42f24')\"\n",
              "            title=\"Convert this dataframe to an interactive table.\"\n",
              "            style=\"display:none;\">\n",
              "\n",
              "  <svg xmlns=\"http://www.w3.org/2000/svg\" height=\"24px\" viewBox=\"0 -960 960 960\">\n",
              "    <path d=\"M120-120v-720h720v720H120Zm60-500h600v-160H180v160Zm220 220h160v-160H400v160Zm0 220h160v-160H400v160ZM180-400h160v-160H180v160Zm440 0h160v-160H620v160ZM180-180h160v-160H180v160Zm440 0h160v-160H620v160Z\"/>\n",
              "  </svg>\n",
              "    </button>\n",
              "\n",
              "  <style>\n",
              "    .colab-df-container {\n",
              "      display:flex;\n",
              "      gap: 12px;\n",
              "    }\n",
              "\n",
              "    .colab-df-convert {\n",
              "      background-color: #E8F0FE;\n",
              "      border: none;\n",
              "      border-radius: 50%;\n",
              "      cursor: pointer;\n",
              "      display: none;\n",
              "      fill: #1967D2;\n",
              "      height: 32px;\n",
              "      padding: 0 0 0 0;\n",
              "      width: 32px;\n",
              "    }\n",
              "\n",
              "    .colab-df-convert:hover {\n",
              "      background-color: #E2EBFA;\n",
              "      box-shadow: 0px 1px 2px rgba(60, 64, 67, 0.3), 0px 1px 3px 1px rgba(60, 64, 67, 0.15);\n",
              "      fill: #174EA6;\n",
              "    }\n",
              "\n",
              "    .colab-df-buttons div {\n",
              "      margin-bottom: 4px;\n",
              "    }\n",
              "\n",
              "    [theme=dark] .colab-df-convert {\n",
              "      background-color: #3B4455;\n",
              "      fill: #D2E3FC;\n",
              "    }\n",
              "\n",
              "    [theme=dark] .colab-df-convert:hover {\n",
              "      background-color: #434B5C;\n",
              "      box-shadow: 0px 1px 3px 1px rgba(0, 0, 0, 0.15);\n",
              "      filter: drop-shadow(0px 1px 2px rgba(0, 0, 0, 0.3));\n",
              "      fill: #FFFFFF;\n",
              "    }\n",
              "  </style>\n",
              "\n",
              "    <script>\n",
              "      const buttonEl =\n",
              "        document.querySelector('#df-ff094d55-e68c-4bf2-8c6b-fee6ddf42f24 button.colab-df-convert');\n",
              "      buttonEl.style.display =\n",
              "        google.colab.kernel.accessAllowed ? 'block' : 'none';\n",
              "\n",
              "      async function convertToInteractive(key) {\n",
              "        const element = document.querySelector('#df-ff094d55-e68c-4bf2-8c6b-fee6ddf42f24');\n",
              "        const dataTable =\n",
              "          await google.colab.kernel.invokeFunction('convertToInteractive',\n",
              "                                                    [key], {});\n",
              "        if (!dataTable) return;\n",
              "\n",
              "        const docLinkHtml = 'Like what you see? Visit the ' +\n",
              "          '<a target=\"_blank\" href=https://colab.research.google.com/notebooks/data_table.ipynb>data table notebook</a>'\n",
              "          + ' to learn more about interactive tables.';\n",
              "        element.innerHTML = '';\n",
              "        dataTable['output_type'] = 'display_data';\n",
              "        await google.colab.output.renderOutput(dataTable, element);\n",
              "        const docLink = document.createElement('div');\n",
              "        docLink.innerHTML = docLinkHtml;\n",
              "        element.appendChild(docLink);\n",
              "      }\n",
              "    </script>\n",
              "  </div>\n",
              "\n",
              "\n",
              "<div id=\"df-542a9808-d835-4b7a-8c4d-b10a83bee691\">\n",
              "  <button class=\"colab-df-quickchart\" onclick=\"quickchart('df-542a9808-d835-4b7a-8c4d-b10a83bee691')\"\n",
              "            title=\"Suggest charts\"\n",
              "            style=\"display:none;\">\n",
              "\n",
              "<svg xmlns=\"http://www.w3.org/2000/svg\" height=\"24px\"viewBox=\"0 0 24 24\"\n",
              "     width=\"24px\">\n",
              "    <g>\n",
              "        <path d=\"M19 3H5c-1.1 0-2 .9-2 2v14c0 1.1.9 2 2 2h14c1.1 0 2-.9 2-2V5c0-1.1-.9-2-2-2zM9 17H7v-7h2v7zm4 0h-2V7h2v10zm4 0h-2v-4h2v4z\"/>\n",
              "    </g>\n",
              "</svg>\n",
              "  </button>\n",
              "\n",
              "<style>\n",
              "  .colab-df-quickchart {\n",
              "      --bg-color: #E8F0FE;\n",
              "      --fill-color: #1967D2;\n",
              "      --hover-bg-color: #E2EBFA;\n",
              "      --hover-fill-color: #174EA6;\n",
              "      --disabled-fill-color: #AAA;\n",
              "      --disabled-bg-color: #DDD;\n",
              "  }\n",
              "\n",
              "  [theme=dark] .colab-df-quickchart {\n",
              "      --bg-color: #3B4455;\n",
              "      --fill-color: #D2E3FC;\n",
              "      --hover-bg-color: #434B5C;\n",
              "      --hover-fill-color: #FFFFFF;\n",
              "      --disabled-bg-color: #3B4455;\n",
              "      --disabled-fill-color: #666;\n",
              "  }\n",
              "\n",
              "  .colab-df-quickchart {\n",
              "    background-color: var(--bg-color);\n",
              "    border: none;\n",
              "    border-radius: 50%;\n",
              "    cursor: pointer;\n",
              "    display: none;\n",
              "    fill: var(--fill-color);\n",
              "    height: 32px;\n",
              "    padding: 0;\n",
              "    width: 32px;\n",
              "  }\n",
              "\n",
              "  .colab-df-quickchart:hover {\n",
              "    background-color: var(--hover-bg-color);\n",
              "    box-shadow: 0 1px 2px rgba(60, 64, 67, 0.3), 0 1px 3px 1px rgba(60, 64, 67, 0.15);\n",
              "    fill: var(--button-hover-fill-color);\n",
              "  }\n",
              "\n",
              "  .colab-df-quickchart-complete:disabled,\n",
              "  .colab-df-quickchart-complete:disabled:hover {\n",
              "    background-color: var(--disabled-bg-color);\n",
              "    fill: var(--disabled-fill-color);\n",
              "    box-shadow: none;\n",
              "  }\n",
              "\n",
              "  .colab-df-spinner {\n",
              "    border: 2px solid var(--fill-color);\n",
              "    border-color: transparent;\n",
              "    border-bottom-color: var(--fill-color);\n",
              "    animation:\n",
              "      spin 1s steps(1) infinite;\n",
              "  }\n",
              "\n",
              "  @keyframes spin {\n",
              "    0% {\n",
              "      border-color: transparent;\n",
              "      border-bottom-color: var(--fill-color);\n",
              "      border-left-color: var(--fill-color);\n",
              "    }\n",
              "    20% {\n",
              "      border-color: transparent;\n",
              "      border-left-color: var(--fill-color);\n",
              "      border-top-color: var(--fill-color);\n",
              "    }\n",
              "    30% {\n",
              "      border-color: transparent;\n",
              "      border-left-color: var(--fill-color);\n",
              "      border-top-color: var(--fill-color);\n",
              "      border-right-color: var(--fill-color);\n",
              "    }\n",
              "    40% {\n",
              "      border-color: transparent;\n",
              "      border-right-color: var(--fill-color);\n",
              "      border-top-color: var(--fill-color);\n",
              "    }\n",
              "    60% {\n",
              "      border-color: transparent;\n",
              "      border-right-color: var(--fill-color);\n",
              "    }\n",
              "    80% {\n",
              "      border-color: transparent;\n",
              "      border-right-color: var(--fill-color);\n",
              "      border-bottom-color: var(--fill-color);\n",
              "    }\n",
              "    90% {\n",
              "      border-color: transparent;\n",
              "      border-bottom-color: var(--fill-color);\n",
              "    }\n",
              "  }\n",
              "</style>\n",
              "\n",
              "  <script>\n",
              "    async function quickchart(key) {\n",
              "      const quickchartButtonEl =\n",
              "        document.querySelector('#' + key + ' button');\n",
              "      quickchartButtonEl.disabled = true;  // To prevent multiple clicks.\n",
              "      quickchartButtonEl.classList.add('colab-df-spinner');\n",
              "      try {\n",
              "        const charts = await google.colab.kernel.invokeFunction(\n",
              "            'suggestCharts', [key], {});\n",
              "      } catch (error) {\n",
              "        console.error('Error during call to suggestCharts:', error);\n",
              "      }\n",
              "      quickchartButtonEl.classList.remove('colab-df-spinner');\n",
              "      quickchartButtonEl.classList.add('colab-df-quickchart-complete');\n",
              "    }\n",
              "    (() => {\n",
              "      let quickchartButtonEl =\n",
              "        document.querySelector('#df-542a9808-d835-4b7a-8c4d-b10a83bee691 button');\n",
              "      quickchartButtonEl.style.display =\n",
              "        google.colab.kernel.accessAllowed ? 'block' : 'none';\n",
              "    })();\n",
              "  </script>\n",
              "</div>\n",
              "\n",
              "    </div>\n",
              "  </div>\n"
            ],
            "application/vnd.google.colaboratory.intrinsic+json": {
              "type": "dataframe",
              "summary": "{\n  \"name\": \"df\",\n  \"rows\": 8,\n  \"fields\": [\n    {\n      \"column\": \"ID\",\n      \"properties\": {\n        \"dtype\": \"number\",\n        \"std\": 340.7483990191687,\n        \"min\": 1.0,\n        \"max\": 1000.0,\n        \"num_unique_values\": 8,\n        \"samples\": [\n          340.5,\n          300.5,\n          1000.0\n        ],\n        \"semantic_type\": \"\",\n        \"description\": \"\"\n      }\n    },\n    {\n      \"column\": \"No_Pation\",\n      \"properties\": {\n        \"dtype\": \"number\",\n        \"std\": 26506399.807291932,\n        \"min\": 123.0,\n        \"max\": 75435657.0,\n        \"num_unique_values\": 8,\n        \"samples\": [\n          270551.408,\n          34395.5,\n          1000.0\n        ],\n        \"semantic_type\": \"\",\n        \"description\": \"\"\n      }\n    },\n    {\n      \"column\": \"AGE\",\n      \"properties\": {\n        \"dtype\": \"number\",\n        \"std\": 337.8075698298658,\n        \"min\": 8.799241026511467,\n        \"max\": 1000.0,\n        \"num_unique_values\": 8,\n        \"samples\": [\n          53.528,\n          55.0,\n          1000.0\n        ],\n        \"semantic_type\": \"\",\n        \"description\": \"\"\n      }\n    },\n    {\n      \"column\": \"Urea\",\n      \"properties\": {\n        \"dtype\": \"number\",\n        \"std\": 350.66845066313783,\n        \"min\": 0.5,\n        \"max\": 1000.0,\n        \"num_unique_values\": 8,\n        \"samples\": [\n          5.1247430000000005,\n          4.6,\n          1000.0\n        ],\n        \"semantic_type\": \"\",\n        \"description\": \"\"\n      }\n    },\n    {\n      \"column\": \"Cr\",\n      \"properties\": {\n        \"dtype\": \"number\",\n        \"std\": 396.4082542281623,\n        \"min\": 6.0,\n        \"max\": 1000.0,\n        \"num_unique_values\": 8,\n        \"samples\": [\n          68.943,\n          60.0,\n          1000.0\n        ],\n        \"semantic_type\": \"\",\n        \"description\": \"\"\n      }\n    },\n    {\n      \"column\": \"HbA1c\",\n      \"properties\": {\n        \"dtype\": \"number\",\n        \"std\": 350.93647966882435,\n        \"min\": 0.9,\n        \"max\": 1000.0,\n        \"num_unique_values\": 8,\n        \"samples\": [\n          8.28116,\n          8.0,\n          1000.0\n        ],\n        \"semantic_type\": \"\",\n        \"description\": \"\"\n      }\n    },\n    {\n      \"column\": \"Chol\",\n      \"properties\": {\n        \"dtype\": \"number\",\n        \"std\": 352.0078356565651,\n        \"min\": 0.0,\n        \"max\": 1000.0,\n        \"num_unique_values\": 8,\n        \"samples\": [\n          4.86282,\n          4.8,\n          1000.0\n        ],\n        \"semantic_type\": \"\",\n        \"description\": \"\"\n      }\n    },\n    {\n      \"column\": \"TG\",\n      \"properties\": {\n        \"dtype\": \"number\",\n        \"std\": 352.35462349300593,\n        \"min\": 0.3,\n        \"max\": 1000.0,\n        \"num_unique_values\": 8,\n        \"samples\": [\n          2.34961,\n          2.0,\n          1000.0\n        ],\n        \"semantic_type\": \"\",\n        \"description\": \"\"\n      }\n    },\n    {\n      \"column\": \"HDL\",\n      \"properties\": {\n        \"dtype\": \"number\",\n        \"std\": 352.79662869375727,\n        \"min\": 0.2,\n        \"max\": 1000.0,\n        \"num_unique_values\": 8,\n        \"samples\": [\n          1.20475,\n          1.1,\n          1000.0\n        ],\n        \"semantic_type\": \"\",\n        \"description\": \"\"\n      }\n    },\n    {\n      \"column\": \"LDL\",\n      \"properties\": {\n        \"dtype\": \"number\",\n        \"std\": 352.4784484593599,\n        \"min\": 0.3,\n        \"max\": 1000.0,\n        \"num_unique_values\": 8,\n        \"samples\": [\n          2.60979,\n          2.5,\n          1000.0\n        ],\n        \"semantic_type\": \"\",\n        \"description\": \"\"\n      }\n    },\n    {\n      \"column\": \"VLDL\",\n      \"properties\": {\n        \"dtype\": \"number\",\n        \"std\": 351.5429126078887,\n        \"min\": 0.1,\n        \"max\": 1000.0,\n        \"num_unique_values\": 8,\n        \"samples\": [\n          1.8546999999999998,\n          0.9,\n          1000.0\n        ],\n        \"semantic_type\": \"\",\n        \"description\": \"\"\n      }\n    },\n    {\n      \"column\": \"BMI\",\n      \"properties\": {\n        \"dtype\": \"number\",\n        \"std\": 344.1566587030283,\n        \"min\": 4.962388112126585,\n        \"max\": 1000.0,\n        \"num_unique_values\": 8,\n        \"samples\": [\n          29.578020000000002,\n          30.0,\n          1000.0\n        ],\n        \"semantic_type\": \"\",\n        \"description\": \"\"\n      }\n    }\n  ]\n}"
            }
          },
          "metadata": {},
          "execution_count": 6
        }
      ]
    },
    {
      "cell_type": "markdown",
      "source": [
        "The variance values indicate how spread out the data points are for each column. The column No_Pation has the highest variance, meaning its values are highly dispersed, while HDL has the lowest variance, showing less variation in the data."
      ],
      "metadata": {
        "id": "umcFwz-IWW5h"
      }
    },
    {
      "cell_type": "code",
      "source": [
        "# excepting the column 'ID' bc they're IDs & No_pation for containing letters\n",
        "\n",
        "numeric_cols = df.iloc[:, 2:].select_dtypes(include=['number']).columns\n",
        "overall_variance = df[numeric_cols].var()\n",
        "print(\"Overall Variance:\\n\", overall_variance)"
      ],
      "metadata": {
        "id": "PW6IvPckWhts",
        "outputId": "4596a27e-e55d-40f1-8028-e0a2c1275419",
        "colab": {
          "base_uri": "https://localhost:8080/"
        }
      },
      "execution_count": 9,
      "outputs": [
        {
          "output_type": "stream",
          "name": "stdout",
          "text": [
            "Overall Variance:\n",
            " AGE        77.426643\n",
            "Urea        8.615196\n",
            "Cr       3598.169921\n",
            "HbA1c       6.421172\n",
            "Chol        1.694521\n",
            "TG          1.963294\n",
            "HDL         0.436146\n",
            "LDL         1.243452\n",
            "VLDL       13.421960\n",
            "BMI        24.625296\n",
            "dtype: float64\n"
          ]
        }
      ]
    },
    {
      "cell_type": "markdown",
      "metadata": {
        "id": "D__J-0mpP2wD"
      },
      "source": [
        "**missing values**:"
      ]
    },
    {
      "cell_type": "code",
      "source": [
        "Missing_Values = df.isna().sum()\n",
        "print(Missing_Values)"
      ],
      "metadata": {
        "id": "PCPlZytxR_KM",
        "outputId": "71893269-1e78-4718-b4de-c006b870225d",
        "colab": {
          "base_uri": "https://localhost:8080/"
        }
      },
      "execution_count": 10,
      "outputs": [
        {
          "output_type": "stream",
          "name": "stdout",
          "text": [
            "ID           0\n",
            "No_Pation    0\n",
            "Gender       0\n",
            "AGE          0\n",
            "Urea         0\n",
            "Cr           0\n",
            "HbA1c        0\n",
            "Chol         0\n",
            "TG           0\n",
            "HDL          0\n",
            "LDL          0\n",
            "VLDL         0\n",
            "BMI          0\n",
            "CLASS        0\n",
            "dtype: int64\n"
          ]
        }
      ]
    },
    {
      "cell_type": "markdown",
      "metadata": {
        "id": "B0X9NthiurDe"
      },
      "source": [
        "**Graphs**:"
      ]
    },
    {
      "cell_type": "markdown",
      "metadata": {
        "id": "uQ_-33akurDf"
      },
      "source": [
        "**Correlation Analysis**:"
      ]
    },
    {
      "cell_type": "markdown",
      "metadata": {
        "id": "Zt2geCnOP2wD"
      },
      "source": [
        "**----------------------------------------------**"
      ]
    },
    {
      "cell_type": "markdown",
      "metadata": {
        "id": "nz_lOfjhurDf"
      },
      "source": [
        "**Data Cleaning**:"
      ]
    },
    {
      "cell_type": "markdown",
      "metadata": {
        "id": "8UsnUqF3P2wE"
      },
      "source": [
        "**Dublicate Data**:\n",
        "First, eliminating any duplicate rows, if any: As shown below we didn't find any duplicated rows."
      ]
    },
    {
      "cell_type": "code",
      "execution_count": null,
      "metadata": {
        "id": "jkTe-qWvP2wE",
        "outputId": "1d093957-84a5-416d-e45d-499cefd1a0ec"
      },
      "outputs": [
        {
          "name": "stdout",
          "output_type": "stream",
          "text": [
            "Number of duplicate rows: 0\n"
          ]
        }
      ],
      "source": [
        "# Check for duplicates\n",
        "duplicates = df.duplicated()\n",
        "# Print the number of duplicate rows\n",
        "print(\"Number of duplicate rows:\", duplicates.sum())"
      ]
    },
    {
      "cell_type": "markdown",
      "metadata": {
        "id": "azbYaFeAP2wE"
      },
      "source": [
        "**filling missing values**: As shown above there is no any Null values in our data set, but We believe that the zeros in some columns such as HbA1c,\n",
        ",Chol,TG,HDL,LDL,VLDL,BMI are actually missing values ​​and have been filled with zeros; due to the fact that these values can not be 0 for any human. So we decided to treat these zeros in the mentioned columns as missing values and then replace it with the mean of the column."
      ]
    },
    {
      "cell_type": "code",
      "execution_count": null,
      "metadata": {
        "id": "1w1oz_WYP2wF",
        "outputId": "03c0bc84-783a-4cf0-e9da-65b684b59037"
      },
      "outputs": [
        {
          "name": "stdout",
          "output_type": "stream",
          "text": [
            "      ID  No_Pation Gender  AGE  Urea  Cr  HbA1c  Chol   TG  HDL  LDL  VLDL  \\\n",
            "0    502      17975      F   50   4.7  46    4.9   4.2  0.9  2.4  1.4   0.5   \n",
            "1    735      34221      M   26   4.5  62    4.9   3.7  1.4  1.1  2.1   0.6   \n",
            "2    420      47975      F   50   4.7  46    4.9   4.2  0.9  2.4  1.4   0.5   \n",
            "3    680      87656      F   50   4.7  46    4.9   4.2  0.9  2.4  1.4   0.5   \n",
            "4    504      34223      M   33   7.1  46    4.9   4.9  1.0  0.8  2.0   0.4   \n",
            "..   ...        ...    ...  ...   ...  ..    ...   ...  ...  ...  ...   ...   \n",
            "995  200     454317      M   71  11.0  97    7.0   7.5  1.7  1.2  1.8   0.6   \n",
            "996  671     876534      M   31   3.0  60   12.3   4.1  2.2  0.7  2.4  15.4   \n",
            "997  669      87654      M   30   7.1  81    6.7   4.1  1.1  1.2  2.4   8.1   \n",
            "998   99      24004      M   38   5.8  59    6.7   5.3  2.0  1.6  2.9  14.0   \n",
            "999  248      24054      M   54   5.0  67    6.9   3.8  1.7  1.1  3.0   0.7   \n",
            "\n",
            "      BMI CLASS  \n",
            "0    24.0     N  \n",
            "1    23.0     N  \n",
            "2    24.0     N  \n",
            "3    24.0     N  \n",
            "4    21.0     N  \n",
            "..    ...   ...  \n",
            "995  30.0     Y  \n",
            "996  37.2    Y   \n",
            "997  27.4    Y   \n",
            "998  40.5    Y   \n",
            "999  33.0    Y   \n",
            "\n",
            "[1000 rows x 14 columns]\n"
          ]
        }
      ],
      "source": [
        "# Specify the columns to modify\n",
        "columns_to_modify = ['HbA1c', 'Chol', 'TG', 'HDL', 'LDL', 'VLDL', 'BMI',]\n",
        "\n",
        "# Calculate the mean for each column and replace 0s with the mean\n",
        "for column in columns_to_modify:\n",
        "    mean_value = df[column].replace(0, pd.NA).mean()  # Calculate mean excluding 0s\n",
        "    df[column] = df[column].replace(0, mean_value)  # Replace 0s with the mean\n",
        "\n",
        "# Print the modified DataFrame\n",
        "print(df)"
      ]
    },
    {
      "cell_type": "markdown",
      "metadata": {
        "id": "fCvX9yxOP2wF"
      },
      "source": [
        "**detect and remove outliers**:\n",
        " identify outliers by using IQR method, calculating the range between the first quartile (Q1) and the third quartile (Q3), then we removed detected outliers."
      ]
    },
    {
      "cell_type": "code",
      "execution_count": null,
      "metadata": {
        "id": "tpyNX_XMP2wF",
        "outputId": "76c597c2-a50c-40dd-a313-974b100cc699"
      },
      "outputs": [
        {
          "name": "stdout",
          "output_type": "stream",
          "text": [
            "number of outliers 371\n",
            "data after cleaning:\n",
            "      ID  No_Pation Gender  AGE  Urea  Cr  HbA1c  Chol   TG  HDL  LDL  VLDL  \\\n",
            "5    634      34224      F   45   2.3  24    4.0   2.9  1.0  1.0  1.5   0.4   \n",
            "6    721      34225      F   50   2.0  50    4.0   3.6  1.3  0.9  2.1   0.6   \n",
            "7    421      34227      M   48   4.7  47    4.0   2.9  0.8  0.9  1.6   0.4   \n",
            "13   132      34234      F   45   4.6  54    5.1   4.2  1.7  1.2  2.2   0.8   \n",
            "14   402      34235      F   50   3.5  39    4.0   4.0  1.5  1.2  2.2   0.7   \n",
            "..   ...        ...    ...  ...   ...  ..    ...   ...  ...  ...  ...   ...   \n",
            "965  159      45446      M   54   5.0  88    6.8   6.7  3.7  0.9  2.9   1.7   \n",
            "973  170      45395      M   50   4.8  70    8.0   5.2  2.7  1.4  2.7   1.2   \n",
            "978  176      45445      M   52   5.1  70    7.0   7.5  1.7  1.2  1.8   0.6   \n",
            "991  195       4543      f   55   4.1  34   13.9   5.4  1.6  1.6  3.1   0.7   \n",
            "999  248      24054      M   54   5.0  67    6.9   3.8  1.7  1.1  3.0   0.7   \n",
            "\n",
            "      BMI CLASS  \n",
            "5    21.0     N  \n",
            "6    24.0     N  \n",
            "7    24.0     N  \n",
            "13   23.0     N  \n",
            "14   24.0     N  \n",
            "..    ...   ...  \n",
            "965  32.0     Y  \n",
            "973  20.0     Y  \n",
            "978  30.0     Y  \n",
            "991  33.0     Y  \n",
            "999  33.0    Y   \n",
            "\n",
            "[629 rows x 14 columns]\n"
          ]
        }
      ],
      "source": [
        "df_numeric = df.select_dtypes(include=['number'])\n",
        "\n",
        "# Calculate IQR\n",
        "Q1 = df_numeric.quantile(0.25)\n",
        "Q3 = df_numeric.quantile(0.75)\n",
        "IQR = Q3 - Q1\n",
        "\n",
        "# Detect Outliers\n",
        "outliers = ((df_numeric < (Q1 - 1.5 * IQR)) | (df_numeric > (Q3 + 1.5 * IQR))).any(axis=1)\n",
        "\n",
        "# Remove Outliers\n",
        "df_cleaned = df[~outliers]\n",
        "\n",
        "\n",
        "print(\"number of outliers\", outliers.sum())\n",
        "print(\"data after cleaning:\")\n",
        "print(df_cleaned)"
      ]
    },
    {
      "cell_type": "markdown",
      "metadata": {
        "id": "qK1iYPxZP2wF"
      },
      "source": [
        "**----------------------------------------------**"
      ]
    },
    {
      "cell_type": "markdown",
      "metadata": {
        "id": "Q7NPUzAourDg"
      },
      "source": [
        "**Data Transformation**:"
      ]
    },
    {
      "cell_type": "markdown",
      "metadata": {
        "id": "iGsSSVHdP2wF"
      },
      "source": [
        "**Normlization**:\n",
        "Normalization was performed to ensure consistent data scale. The normalization technique applied is max-min normalization. This technique scales specific attribute values ​​to a specified range from 0 to 1. The following attributes were selected for normalization: ['BMI', 'Urea', 'Cr','Chol', 'TG', 'HDL', 'LDL', 'VLDL','HbA1c']"
      ]
    },
    {
      "cell_type": "code",
      "execution_count": null,
      "metadata": {
        "id": "quQne5OWP2wF",
        "outputId": "f1a76cf3-94de-4b49-c36f-9edc25e1c74d"
      },
      "outputs": [
        {
          "name": "stdout",
          "output_type": "stream",
          "text": [
            "min-max scaled data:\n",
            "      ID  No_Pation Gender  AGE      Urea        Cr     HbA1c      Chol  \\\n",
            "0    502      17975      F   50  0.109375  0.050378  0.264901  0.407767   \n",
            "1    735      34221      M   26  0.104167  0.070529  0.264901  0.359223   \n",
            "2    420      47975      F   50  0.109375  0.050378  0.264901  0.407767   \n",
            "3    680      87656      F   50  0.109375  0.050378  0.264901  0.407767   \n",
            "4    504      34223      M   33  0.171875  0.050378  0.264901  0.475728   \n",
            "..   ...        ...    ...  ...       ...       ...       ...       ...   \n",
            "995  200     454317      M   71  0.273438  0.114610  0.403974  0.728155   \n",
            "996  671     876534      M   31  0.065104  0.068010  0.754967  0.398058   \n",
            "997  669      87654      M   30  0.171875  0.094458  0.384106  0.398058   \n",
            "998   99      24004      M   38  0.138021  0.066751  0.384106  0.514563   \n",
            "999  248      24054      M   54  0.117188  0.076826  0.397351  0.368932   \n",
            "\n",
            "           TG       HDL       LDL      VLDL       BMI CLASS  \n",
            "0    0.044444  0.226804  0.114583  0.011461  0.173913     N  \n",
            "1    0.081481  0.092784  0.187500  0.014327  0.139130     N  \n",
            "2    0.044444  0.226804  0.114583  0.011461  0.173913     N  \n",
            "3    0.044444  0.226804  0.114583  0.011461  0.173913     N  \n",
            "4    0.051852  0.061856  0.177083  0.008596  0.069565     N  \n",
            "..        ...       ...       ...       ...       ...   ...  \n",
            "995  0.103704  0.103093  0.156250  0.014327  0.382609     Y  \n",
            "996  0.140741  0.051546  0.218750  0.438395  0.633043    Y   \n",
            "997  0.059259  0.103093  0.218750  0.229226  0.292174    Y   \n",
            "998  0.125926  0.144330  0.270833  0.398281  0.747826    Y   \n",
            "999  0.103704  0.092784  0.281250  0.017192  0.486957    Y   \n",
            "\n",
            "[1000 rows x 14 columns]\n"
          ]
        }
      ],
      "source": [
        "#Extract Columns to normlize\n",
        "columns_to_normalize = ['BMI', 'Urea', 'Cr','Chol', 'TG', 'HDL', 'LDL', 'VLDL','HbA1c']\n",
        "data_to_normlize = df[columns_to_normalize]\n",
        "#Min-Max scaling for selected columns\n",
        "minmax_scaler = MinMaxScaler()\n",
        "normlized_data_minmax = minmax_scaler.fit_transform(data_to_normlize)\n",
        "\n",
        "#Replace the normlized values in the original DataFrame\n",
        "df[columns_to_normalize] = normlized_data_minmax\n",
        "\n",
        "print(\"min-max scaled data:\")\n",
        "\n",
        "print(df)"
      ]
    },
    {
      "cell_type": "markdown",
      "metadata": {
        "id": "3g1-ge61P2wG"
      },
      "source": [
        "\n",
        "**discretization**: we applied discretization to the \"Age\" column to simplify the continuous age data by grouping it into meaningful age ranges, the ranges are [0-30 , 31-50 , 51-100] This helps reduce noise, improve interpretability, and may enhance model performance by capturing patterns more effectively in categories rather than treating age as a continuous variable."
      ]
    },
    {
      "cell_type": "code",
      "execution_count": null,
      "metadata": {
        "id": "AxQDrAHKP2wG",
        "outputId": "46630f38-ef5f-4c74-ffdf-d80b9a36c67e"
      },
      "outputs": [
        {
          "name": "stdout",
          "output_type": "stream",
          "text": [
            "original DataFrame:\n",
            "     AGE AgeGroup\n",
            "0     50    31-50\n",
            "1     26     0-30\n",
            "2     50    31-50\n",
            "3     50    31-50\n",
            "4     33    31-50\n",
            "..   ...      ...\n",
            "995   71   51-100\n",
            "996   31    31-50\n",
            "997   30     0-30\n",
            "998   38    31-50\n",
            "999   54   51-100\n",
            "\n",
            "[1000 rows x 2 columns]\n"
          ]
        }
      ],
      "source": [
        "#Discretization for column (Age)\n",
        "columns_to_Discretize = 'AGE'\n",
        "\n",
        "#The boundaries of the bins\n",
        "bns = [0, 30 , 50 , 100]\n",
        "\n",
        "#Labels for the age groups\n",
        "labls = ['0-30' , '31-50' , '51-100']\n",
        "\n",
        "#Perform discretization using cut function\n",
        "df['AgeGroup'] = pd.cut(df[columns_to_Discretize] , bins=bns , labels= labls )\n",
        "\n",
        "#Display the Discretizied columns\n",
        "print(\"original DataFrame:\")\n",
        "print(df[['AGE' ,'AgeGroup']])"
      ]
    },
    {
      "cell_type": "markdown",
      "metadata": {
        "id": "1uXQw0tZP2wG"
      },
      "source": [
        "**Encoding**: Encoding the class And Gender columns, by converting categorical values into numerical format,to ensures all data is numeric and consistent for analysis and modeling."
      ]
    },
    {
      "cell_type": "code",
      "execution_count": null,
      "metadata": {
        "id": "sjPFfb6VP2wG",
        "outputId": "a01f7d6a-2158-4367-de89-7d88ce979408"
      },
      "outputs": [
        {
          "name": "stdout",
          "output_type": "stream",
          "text": [
            "      ID  No_Pation  Gender  AGE      Urea        Cr     HbA1c      Chol  \\\n",
            "0    502      17975       0   50  0.109375  0.050378  0.264901  0.407767   \n",
            "1    735      34221       1   26  0.104167  0.070529  0.264901  0.359223   \n",
            "2    420      47975       0   50  0.109375  0.050378  0.264901  0.407767   \n",
            "3    680      87656       0   50  0.109375  0.050378  0.264901  0.407767   \n",
            "4    504      34223       1   33  0.171875  0.050378  0.264901  0.475728   \n",
            "..   ...        ...     ...  ...       ...       ...       ...       ...   \n",
            "995  200     454317       1   71  0.273438  0.114610  0.403974  0.728155   \n",
            "996  671     876534       1   31  0.065104  0.068010  0.754967  0.398058   \n",
            "997  669      87654       1   30  0.171875  0.094458  0.384106  0.398058   \n",
            "998   99      24004       1   38  0.138021  0.066751  0.384106  0.514563   \n",
            "999  248      24054       1   54  0.117188  0.076826  0.397351  0.368932   \n",
            "\n",
            "           TG       HDL       LDL      VLDL       BMI  CLASS AgeGroup  \n",
            "0    0.044444  0.226804  0.114583  0.011461  0.173913      0    31-50  \n",
            "1    0.081481  0.092784  0.187500  0.014327  0.139130      0     0-30  \n",
            "2    0.044444  0.226804  0.114583  0.011461  0.173913      0    31-50  \n",
            "3    0.044444  0.226804  0.114583  0.011461  0.173913      0    31-50  \n",
            "4    0.051852  0.061856  0.177083  0.008596  0.069565      0    31-50  \n",
            "..        ...       ...       ...       ...       ...    ...      ...  \n",
            "995  0.103704  0.103093  0.156250  0.014327  0.382609      3   51-100  \n",
            "996  0.140741  0.051546  0.218750  0.438395  0.633043      4    31-50  \n",
            "997  0.059259  0.103093  0.218750  0.229226  0.292174      4     0-30  \n",
            "998  0.125926  0.144330  0.270833  0.398281  0.747826      4    31-50  \n",
            "999  0.103704  0.092784  0.281250  0.017192  0.486957      4   51-100  \n",
            "\n",
            "[1000 rows x 15 columns]\n"
          ]
        }
      ],
      "source": [
        "le = LabelEncoder()\n",
        "df['Gender'] = le.fit_transform(df['Gender'])\n",
        "df['CLASS'] = le.fit_transform(df['CLASS'])\n",
        "print(df)"
      ]
    },
    {
      "cell_type": "markdown",
      "metadata": {
        "id": "YaOdOZU9P2wG"
      },
      "source": [
        "**----------------------------------------------**"
      ]
    },
    {
      "cell_type": "markdown",
      "metadata": {
        "id": "Cv-fWj-jurDg"
      },
      "source": [
        "**Features Selection**:"
      ]
    },
    {
      "cell_type": "code",
      "execution_count": null,
      "metadata": {
        "colab": {
          "base_uri": "https://localhost:8080/"
        },
        "id": "iBRDYyS-usce",
        "outputId": "47eafd85-75b0-4eb6-b5b5-fd66cb3c887b"
      },
      "outputs": [
        {
          "name": "stdout",
          "output_type": "stream",
          "text": [
            "Selected Features: ['AGE', 'HbA1c', 'Chol', 'TG', 'BMI']\n"
          ]
        }
      ],
      "source": [
        "from sklearn.feature_selection import SelectKBest, f_classif\n",
        "from sklearn.preprocessing import LabelEncoder\n",
        "\n",
        "\n",
        "df['Gender'] = LabelEncoder().fit_transform(df['Gender'])\n",
        "df['CLASS'] = LabelEncoder().fit_transform(df['CLASS'])\n",
        "\n",
        "X = df.drop(columns=[\"CLASS\"])\n",
        "y = df[\"CLASS\"]\n",
        "selector = SelectKBest(score_func=f_classif, k=5)\n",
        "X_new = selector.fit_transform(X, y)\n",
        "\n",
        "selected_features = X.columns[selector.get_support()]\n",
        "print(\"Selected Features:\", selected_features.tolist())"
      ]
    },
    {
      "cell_type": "code",
      "execution_count": null,
      "metadata": {
        "colab": {
          "base_uri": "https://localhost:8080/"
        },
        "id": "5XAamyNWu2nZ",
        "outputId": "38466cae-18ee-4df1-a358-513d96311a91"
      },
      "outputs": [
        {
          "name": "stdout",
          "output_type": "stream",
          "text": [
            "Selected Features after Variance Threshold: ['ID', 'No_Pation', 'Gender', 'AGE', 'Urea', 'Cr', 'HbA1c', 'Chol', 'TG', 'HDL', 'LDL', 'VLDL', 'BMI']\n"
          ]
        }
      ],
      "source": [
        "from sklearn.feature_selection import VarianceThreshold\n",
        "\n",
        "selector = VarianceThreshold(threshold=0.1)\n",
        "X_new = selector.fit_transform(X)\n",
        "\n",
        "selected_features = X.columns[selector.get_support()]\n",
        "print(\"Selected Features after Variance Threshold:\", selected_features.tolist())\n"
      ]
    }
  ],
  "metadata": {
    "colab": {
      "provenance": [],
      "include_colab_link": true
    },
    "kernelspec": {
      "display_name": "Python 3",
      "name": "python3"
    },
    "language_info": {
      "codemirror_mode": {
        "name": "ipython",
        "version": 3
      },
      "file_extension": ".py",
      "mimetype": "text/x-python",
      "name": "python",
      "nbconvert_exporter": "python",
      "pygments_lexer": "ipython3",
      "version": "3.12.1"
    }
  },
  "nbformat": 4,
  "nbformat_minor": 0
}